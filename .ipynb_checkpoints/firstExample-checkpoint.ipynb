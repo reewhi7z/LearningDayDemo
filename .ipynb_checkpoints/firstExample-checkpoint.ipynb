{
 "cells": [
  {
   "cell_type": "code",
   "execution_count": 1,
   "id": "30c22411-7191-4722-81ae-f9372346bc98",
   "metadata": {},
   "outputs": [],
   "source": [
    "import fmpy\n",
    "\n",
    "fmpy.plot_library = 'plotly'  # experimental\n",
    "\n",
    "filename = 'Rectifier.fmu'\n",
    "start_values = {\n",
    "    # variable                          start   unit      description\n",
    "    'minsamplestep': (2.50000000000000000e-02, 's'),    # Minimum time step between samples in binary data file\n",
    "    'binfilename':                 'DISABLED',          # Name of binary data file\n",
    "}\n",
    "output = [\n",
    "    'outputs',  # Rectifier1.Capacitor1.v\n",
    "]\n",
    "result = fmpy.simulate_fmu(filename, start_values=start_values, output=output, stop_time=0.1)\n",
    "fmpy.plot_result(result)"
   ]
  },
  {
   "cell_type": "code",
   "execution_count": null,
   "id": "a0ba2b4d-ae97-42cc-94bf-e09646881a2f",
   "metadata": {},
   "outputs": [],
   "source": []
  }
 ],
 "metadata": {
  "kernelspec": {
   "display_name": "Python 3 (ipykernel)",
   "language": "python",
   "name": "python3"
  },
  "language_info": {
   "codemirror_mode": {
    "name": "ipython",
    "version": 3
   },
   "file_extension": ".py",
   "mimetype": "text/x-python",
   "name": "python",
   "nbconvert_exporter": "python",
   "pygments_lexer": "ipython3",
   "version": "3.7.12"
  }
 },
 "nbformat": 4,
 "nbformat_minor": 5
}

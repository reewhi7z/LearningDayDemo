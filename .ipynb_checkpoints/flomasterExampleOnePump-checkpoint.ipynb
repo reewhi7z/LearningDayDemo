{
 "cells": [
  {
   "cell_type": "markdown",
   "id": "d3500d4f-eb36-4aed-91ae-46edb4096e3c",
   "metadata": {},
   "source": [
    "# Flomaster Example"
   ]
  },
  {
   "cell_type": "code",
   "execution_count": 1,
   "id": "73226cc5-3c66-4615-84b3-e84bfd418b35",
   "metadata": {},
   "outputs": [
    {
     "name": "stdout",
     "output_type": "stream",
     "text": [
      "[OK] Starting server /tmp/tmp8hwtupt4/resources/linux64/Flomaster.Fmi.EmbeddedSolver\n",
      "[OK] Started with socket unix:/tmp/FMI_HOST_24f33bcdca3d414db61681ad4c9667a2.tmp\n",
      "[OK] About to initialise FmiClient in client...\n",
      "[OK] Called InstantiateInstance in fmi communication client\n",
      "[OK] Called SetupExperiment in fmi communication client\n"
     ]
    },
    {
     "ename": "Exception",
     "evalue": "The start values for the following variables could not be set because they don't exist: minsamplestep, binfilename",
     "output_type": "error",
     "traceback": [
      "\u001b[0;31m---------------------------------------------------------------------------\u001b[0m",
      "\u001b[0;31mException\u001b[0m                                 Traceback (most recent call last)",
      "\u001b[0;32m/tmp/ipykernel_2638/1850104403.py\u001b[0m in \u001b[0;36m<module>\u001b[0;34m\u001b[0m\n\u001b[1;32m     10\u001b[0m }\n\u001b[1;32m     11\u001b[0m \u001b[0;34m\u001b[0m\u001b[0m\n\u001b[0;32m---> 12\u001b[0;31m \u001b[0mresult\u001b[0m \u001b[0;34m=\u001b[0m \u001b[0mfmpy\u001b[0m\u001b[0;34m.\u001b[0m\u001b[0msimulate_fmu\u001b[0m\u001b[0;34m(\u001b[0m\u001b[0mfilename\u001b[0m\u001b[0;34m,\u001b[0m \u001b[0mstart_values\u001b[0m\u001b[0;34m=\u001b[0m\u001b[0mstart_values\u001b[0m\u001b[0;34m,\u001b[0m \u001b[0mstop_time\u001b[0m\u001b[0;34m=\u001b[0m\u001b[0;36m10\u001b[0m\u001b[0;34m)\u001b[0m\u001b[0;34m\u001b[0m\u001b[0;34m\u001b[0m\u001b[0m\n\u001b[0m\u001b[1;32m     13\u001b[0m \u001b[0mfmpy\u001b[0m\u001b[0;34m.\u001b[0m\u001b[0mplot_result\u001b[0m\u001b[0;34m(\u001b[0m\u001b[0mresult\u001b[0m\u001b[0;34m)\u001b[0m\u001b[0;34m\u001b[0m\u001b[0;34m\u001b[0m\u001b[0m\n",
      "\u001b[0;32m/usr/local/lib/python3.7/dist-packages/fmpy/simulation.py\u001b[0m in \u001b[0;36msimulate_fmu\u001b[0;34m(filename, validate, start_time, stop_time, solver, step_size, relative_tolerance, output_interval, record_events, fmi_type, start_values, apply_default_start_values, input, output, timeout, debug_logging, visible, logger, fmi_call_logger, step_finished, model_description, fmu_instance, set_input_derivatives, remote_platform)\u001b[0m\n\u001b[1;32m    787\u001b[0m         \u001b[0mresult\u001b[0m \u001b[0;34m=\u001b[0m \u001b[0msimulateME\u001b[0m\u001b[0;34m(\u001b[0m\u001b[0mmodel_description\u001b[0m\u001b[0;34m,\u001b[0m \u001b[0mfmu\u001b[0m\u001b[0;34m,\u001b[0m \u001b[0mstart_time\u001b[0m\u001b[0;34m,\u001b[0m \u001b[0mstop_time\u001b[0m\u001b[0;34m,\u001b[0m \u001b[0msolver\u001b[0m\u001b[0;34m,\u001b[0m \u001b[0mstep_size\u001b[0m\u001b[0;34m,\u001b[0m \u001b[0mrelative_tolerance\u001b[0m\u001b[0;34m,\u001b[0m \u001b[0mstart_values\u001b[0m\u001b[0;34m,\u001b[0m \u001b[0mapply_default_start_values\u001b[0m\u001b[0;34m,\u001b[0m \u001b[0minput\u001b[0m\u001b[0;34m,\u001b[0m \u001b[0moutput\u001b[0m\u001b[0;34m,\u001b[0m \u001b[0moutput_interval\u001b[0m\u001b[0;34m,\u001b[0m \u001b[0mrecord_events\u001b[0m\u001b[0;34m,\u001b[0m \u001b[0mtimeout\u001b[0m\u001b[0;34m,\u001b[0m \u001b[0mstep_finished\u001b[0m\u001b[0;34m)\u001b[0m\u001b[0;34m\u001b[0m\u001b[0;34m\u001b[0m\u001b[0m\n\u001b[1;32m    788\u001b[0m     \u001b[0;32melif\u001b[0m \u001b[0mfmi_type\u001b[0m \u001b[0;34m==\u001b[0m \u001b[0;34m'CoSimulation'\u001b[0m\u001b[0;34m:\u001b[0m\u001b[0;34m\u001b[0m\u001b[0;34m\u001b[0m\u001b[0m\n\u001b[0;32m--> 789\u001b[0;31m         \u001b[0mresult\u001b[0m \u001b[0;34m=\u001b[0m \u001b[0msimulateCS\u001b[0m\u001b[0;34m(\u001b[0m\u001b[0mmodel_description\u001b[0m\u001b[0;34m,\u001b[0m \u001b[0mfmu\u001b[0m\u001b[0;34m,\u001b[0m \u001b[0mstart_time\u001b[0m\u001b[0;34m,\u001b[0m \u001b[0mstop_time\u001b[0m\u001b[0;34m,\u001b[0m \u001b[0mrelative_tolerance\u001b[0m\u001b[0;34m,\u001b[0m \u001b[0mstart_values\u001b[0m\u001b[0;34m,\u001b[0m \u001b[0mapply_default_start_values\u001b[0m\u001b[0;34m,\u001b[0m \u001b[0minput\u001b[0m\u001b[0;34m,\u001b[0m \u001b[0moutput\u001b[0m\u001b[0;34m,\u001b[0m \u001b[0moutput_interval\u001b[0m\u001b[0;34m,\u001b[0m \u001b[0mtimeout\u001b[0m\u001b[0;34m,\u001b[0m \u001b[0mstep_finished\u001b[0m\u001b[0;34m,\u001b[0m \u001b[0mset_input_derivatives\u001b[0m\u001b[0;34m)\u001b[0m\u001b[0;34m\u001b[0m\u001b[0;34m\u001b[0m\u001b[0m\n\u001b[0m\u001b[1;32m    790\u001b[0m \u001b[0;34m\u001b[0m\u001b[0m\n\u001b[1;32m    791\u001b[0m     \u001b[0;32mif\u001b[0m \u001b[0mfmu_instance\u001b[0m \u001b[0;32mis\u001b[0m \u001b[0;32mNone\u001b[0m\u001b[0;34m:\u001b[0m\u001b[0;34m\u001b[0m\u001b[0;34m\u001b[0m\u001b[0m\n",
      "\u001b[0;32m/usr/local/lib/python3.7/dist-packages/fmpy/simulation.py\u001b[0m in \u001b[0;36msimulateCS\u001b[0;34m(model_description, fmu, start_time, stop_time, relative_tolerance, start_values, apply_default_start_values, input_signals, output, output_interval, timeout, step_finished, set_input_derivatives)\u001b[0m\n\u001b[1;32m   1189\u001b[0m     \u001b[0mtime\u001b[0m \u001b[0;34m=\u001b[0m \u001b[0mstart_time\u001b[0m\u001b[0;34m\u001b[0m\u001b[0;34m\u001b[0m\u001b[0m\n\u001b[1;32m   1190\u001b[0m \u001b[0;34m\u001b[0m\u001b[0m\n\u001b[0;32m-> 1191\u001b[0;31m     \u001b[0mapply_start_values\u001b[0m\u001b[0;34m(\u001b[0m\u001b[0mfmu\u001b[0m\u001b[0;34m,\u001b[0m \u001b[0mmodel_description\u001b[0m\u001b[0;34m,\u001b[0m \u001b[0mstart_values\u001b[0m\u001b[0;34m,\u001b[0m \u001b[0mapply_default_start_values\u001b[0m\u001b[0;34m)\u001b[0m\u001b[0;34m\u001b[0m\u001b[0;34m\u001b[0m\u001b[0m\n\u001b[0m\u001b[1;32m   1192\u001b[0m \u001b[0;34m\u001b[0m\u001b[0m\n\u001b[1;32m   1193\u001b[0m     \u001b[0;31m# initialize the model\u001b[0m\u001b[0;34m\u001b[0m\u001b[0;34m\u001b[0m\u001b[0;34m\u001b[0m\u001b[0m\n",
      "\u001b[0;32m/usr/local/lib/python3.7/dist-packages/fmpy/simulation.py\u001b[0m in \u001b[0;36mapply_start_values\u001b[0;34m(fmu, model_description, start_values, apply_default_start_values)\u001b[0m\n\u001b[1;32m    502\u001b[0m     \u001b[0;32mif\u001b[0m \u001b[0mlen\u001b[0m\u001b[0;34m(\u001b[0m\u001b[0mstart_values\u001b[0m\u001b[0;34m)\u001b[0m \u001b[0;34m>\u001b[0m \u001b[0;36m0\u001b[0m\u001b[0;34m:\u001b[0m\u001b[0;34m\u001b[0m\u001b[0;34m\u001b[0m\u001b[0m\n\u001b[1;32m    503\u001b[0m         raise Exception(\"The start values for the following variables could not be set because they don't exist: \" +\n\u001b[0;32m--> 504\u001b[0;31m                         ', '.join(start_values.keys()))\n\u001b[0m\u001b[1;32m    505\u001b[0m \u001b[0;34m\u001b[0m\u001b[0m\n\u001b[1;32m    506\u001b[0m \u001b[0;34m\u001b[0m\u001b[0m\n",
      "\u001b[0;31mException\u001b[0m: The start values for the following variables could not be set because they don't exist: minsamplestep, binfilename"
     ]
    }
   ],
   "source": [
    "import fmpy\n",
    "\n",
    "fmpy.plot_library = 'plotly'  # experimental\n",
    "\n",
    "filename = 'Goal Seeking in python 3.fmu'\n",
    "start_values = {}\n",
    "\n",
    "result = fmpy.simulate_fmu(filename, start_values=start_values, stop_time=10)\n",
    "fmpy.plot_result(result)"
   ]
  },
  {
   "cell_type": "code",
   "execution_count": null,
   "id": "e9a5921e-df3c-42a6-b9ad-65c519b15b3a",
   "metadata": {},
   "outputs": [],
   "source": []
  },
  {
   "cell_type": "code",
   "execution_count": null,
   "id": "17e87a4a-6e0e-40ec-bf3c-bc8d9fb2afbe",
   "metadata": {},
   "outputs": [],
   "source": []
  }
 ],
 "metadata": {
  "kernelspec": {
   "display_name": "Python 3 (ipykernel)",
   "language": "python",
   "name": "python3"
  },
  "language_info": {
   "codemirror_mode": {
    "name": "ipython",
    "version": 3
   },
   "file_extension": ".py",
   "mimetype": "text/x-python",
   "name": "python",
   "nbconvert_exporter": "python",
   "pygments_lexer": "ipython3",
   "version": "3.7.12"
  }
 },
 "nbformat": 4,
 "nbformat_minor": 5
}

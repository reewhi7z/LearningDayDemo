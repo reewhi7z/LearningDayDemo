{
 "cells": [
  {
   "cell_type": "markdown",
   "id": "d3500d4f-eb36-4aed-91ae-46edb4096e3c",
   "metadata": {},
   "source": [
    "# Flomaster Example: Two Pump"
   ]
  },
  {
   "cell_type": "code",
   "execution_count": null,
   "id": "73226cc5-3c66-4615-84b3-e84bfd418b35",
   "metadata": {},
   "outputs": [],
   "source": [
    "from IPython.display import display\n",
    "import numpy as np\n",
    "import plotly.graph_objects as go\n",
    "from scipy.optimize import Bounds, differential_evolution, LinearConstraint\n",
    "\n",
    "from fmu_optimise import create_cost_function"
   ]
  },
  {
   "cell_type": "code",
   "execution_count": null,
   "id": "e9a5921e-df3c-42a6-b9ad-65c519b15b3a",
   "metadata": {},
   "outputs": [],
   "source": [
    "filename = \"Two Pump Model Win.fmu\"\n",
    "\n",
    "# set input parameters with bounds\n",
    "inputs = {\n",
    "    \"[Major Pipe Diameter]\": [0.1, 0.3],\n",
    "    \"[Pipe Diameter]\": [0.1, 0.3],\n",
    "    \"[RatedFlow]\": [0.05, 0.07],\n",
    "    \"[RatedHead]\": [10, 30],\n",
    "}\n",
    "\n",
    "# create linear constraint \n",
    "con = LinearConstraint([1, -1, 0, 0], 0, np.inf) \n",
    "\n",
    "# outputs to be recorded\n",
    "output = [\n",
    "    \"Primary Pump Power\",\n",
    "    \"Secondary Pump Power\"\n",
    "]\n",
    "\n",
    "# create bounds in expected format\n",
    "bounds = Bounds([b[0] for b in inputs.values()], [b[1] for b in inputs.values()])\n",
    "\n",
    "# create post simulation cost function\n",
    "def post_simulation_function(results):\n",
    "    return sum([np.trapz(results[\"Primary Pump Power\"]), np.trapz(results[\"Secondary Pump Power\"])])"
   ]
  },
  {
   "cell_type": "code",
   "execution_count": null,
   "id": "552478a1-182f-436c-8571-94df1093ea50",
   "metadata": {},
   "outputs": [],
   "source": [
    "# cost function\n",
    "func = create_cost_function(\n",
    "    filename=filename,\n",
    "    input_names=inputs.keys(),\n",
    "    output_names=output,\n",
    "    start_time=0,\n",
    "    stop_time=60,\n",
    "    step_size=0.5,\n",
    "    post_simulation_function=post_simulation_function\n",
    ")"
   ]
  },
  {
   "cell_type": "code",
   "execution_count": null,
   "id": "7438885c-e2e5-4c25-ac21-368e66755741",
   "metadata": {},
   "outputs": [],
   "source": [
    "def unbound_generation_callback(fig, convergence_list, input_names, xk, convergence=0):\n",
    "    print('Best of generation:')\n",
    "    [print(f\"{k} - {v}\") for k, v in zip(input_names, xk)]\n",
    "    convergence_list.append(convergence)\n",
    "    fig.data[0].y = convergence_list\n",
    "\n",
    "fig = go.FigureWidget()\n",
    "fig.add_scatter()\n",
    "fig.update_layout(\n",
    "    title=\"Convergence Plot\",\n",
    "    xaxis_title=\"Generations\",\n",
    "    yaxis_title=\"Convergence\"\n",
    ")\n",
    "display(fig)\n",
    "convergence_list = []\n",
    "generation_callback = lambda xk, convergence=0 : unbound_generation_callback(fig, convergence_list, inputs.keys(), xk, convergence)\n",
    "# solve\n",
    "result = differential_evolution(func, bounds, popsize=3, maxiter=20, callback=generation_callback, constraints=(con,))\n",
    "print(\"Final output\")\n",
    "print(result)"
   ]
  },
  {
   "cell_type": "code",
   "execution_count": null,
   "id": "86f0a02b-064e-4f33-b809-01a8b8e0eee0",
   "metadata": {},
   "outputs": [],
   "source": []
  }
 ],
 "metadata": {
  "kernelspec": {
   "display_name": "Python 3 (ipykernel)",
   "language": "python",
   "name": "python3"
  },
  "language_info": {
   "codemirror_mode": {
    "name": "ipython",
    "version": 3
   },
   "file_extension": ".py",
   "mimetype": "text/x-python",
   "name": "python",
   "nbconvert_exporter": "python",
   "pygments_lexer": "ipython3",
   "version": "3.9.7"
  }
 },
 "nbformat": 4,
 "nbformat_minor": 5
}

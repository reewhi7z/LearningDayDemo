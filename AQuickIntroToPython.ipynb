{
 "cells": [
  {
   "cell_type": "markdown",
   "metadata": {},
   "source": [
    "# A Quick Introduction to Python \n",
    "\n",
    "## Basic datatypes"
   ]
  },
  {
   "cell_type": "code",
   "execution_count": null,
   "metadata": {},
   "outputs": [],
   "source": [
    "aBool = True\n",
    "anotherBool = False\n",
    "aNone = None\n",
    "anInt = 42\n",
    "aFloat = 3.141\n",
    "aString = \"Hello!\"\n",
    "anFString = f\"This is the value of anInt - {anInt}\"\n"
   ]
  },
  {
   "cell_type": "markdown",
   "metadata": {},
   "source": [
    "## Basic Maths"
   ]
  },
  {
   "cell_type": "code",
   "execution_count": null,
   "metadata": {},
   "outputs": [],
   "source": [
    "print(anInt + aFloat) # add\n",
    "print(20 - 5)         # substract\n",
    "print(3.3 * 3)        # multiply\n",
    "print(10 / 3)         # divide\n",
    "print(2 ** 2)         # power of\n",
    "print(10 % 3)         # the remainder\n",
    "print(10 // 3)        # the modules\n",
    "\n",
    "# you can also add strings together in Python\n",
    "print(\"Hello\" + \" world!\")\n"
   ]
  },
  {
   "cell_type": "markdown",
   "metadata": {},
   "source": [
    "## Basic bool maths"
   ]
  },
  {
   "cell_type": "code",
   "execution_count": null,
   "metadata": {},
   "outputs": [],
   "source": [
    "print(\"True and True -\", True and True)\n",
    "print(\"True or False -\", True or False)\n",
    "print(\"not True -\", not True)\n",
    "print(\"not(True and True) -\", not(True and True))\n",
    "print(\"1 == 1 -\", 1 == 1)\n",
    "print(\"1 == '1' -\", 1 == \"1\")\n",
    "print(\"'this' != 'that' -\", \"this\" != \"that\")\n",
    "print(\"0 > -5 -\", 0 > -5)\n",
    "print(\"7.5 < 7.9 -\", 7.5 < 7.9)\n",
    "print(\"4 <= 4 -\", 4 <= 4)\n",
    "\n",
    "print(\"5 >= 4 -\", 5 >= 4)\n",
    "print(\"(1 == 1) and ( 10 < 5) -\", (1 == 1) and ( 10 < 5))"
   ]
  },
  {
   "cell_type": "markdown",
   "metadata": {},
   "source": [
    "## Lists and Tuples"
   ]
  },
  {
   "cell_type": "code",
   "execution_count": null,
   "metadata": {},
   "outputs": [],
   "source": [
    "# Lists are decalired with [] and can contain anthing you like. Each item is the list is separated by a comma. Lists don't have to contain all the same types\n",
    "aList = [True, 75, 8.2, anInt] \n",
    "aListWithLists = [[1, 2, 3], aList, 1] \n",
    "# tuples are set with () with each item separated by a comma. Like lists, they can contain anthing you like\n",
    "aTuple = (1, 2, \"a\")\n",
    "# we can check for items in a list or tuple like so\n",
    "print(75 in aList)\n",
    "print(1 in aTuple)"
   ]
  },
  {
   "cell_type": "markdown",
   "metadata": {},
   "source": [
    "## Dictionaries"
   ]
  },
  {
   "cell_type": "code",
   "execution_count": null,
   "metadata": {},
   "outputs": [],
   "source": [
    "# Dicts are decalired with {}. Each key value pair is set like so key: value with each key value pair being seperated by a comma\n",
    "aDict = {\"aKey\": \"aValue\", aString: 2, 2: 3}\n",
    "# we can check for keys like so\n",
    "print(aString in aDict)\n",
    "# and for values like this\n",
    "print(\"aValue\" in aDict.values())\n"
   ]
  },
  {
   "cell_type": "markdown",
   "metadata": {},
   "source": [
    "## Control Flow"
   ]
  },
  {
   "cell_type": "code",
   "execution_count": null,
   "metadata": {},
   "outputs": [],
   "source": [
    "# if statements\n",
    "\n",
    "if True:\n",
    "    print(\"If True print This\")\n",
    "\n",
    "x = 1\n",
    "if x < 1:\n",
    "    print(\"It's not going to print this\")\n",
    "elif x > 2:\n",
    "    print(\"It's not going to print this either\")\n",
    "else:\n",
    "    print(\"But it will print this\")\n",
    "\n",
    "# while loops\n",
    "while_counter = 0\n",
    "while while_counter < 3:\n",
    "    print(f\"while_counter - {while_counter}\")\n",
    "    while_counter += 1\n",
    "\n",
    "# for loops\n",
    "for i in range(5):\n",
    "    print(f\"i - {i}\")\n",
    "\n",
    "loopingList = [2, \"list item\", [1, 2, 3]]\n",
    "for item in loopingList:\n",
    "    print(item)\n",
    "\n",
    "loopingDict = {\"key\":\"value\", \"anotherKey\": \"anotherValue\"}\n",
    "for k in loopingDict:\n",
    "    print(k)\n",
    "for v in loopingDict.values():\n",
    "    print(v)\n",
    "for k, v in loopingDict.items():\n",
    "    print(f\"Key - {k}\")\n",
    "    print(f\"Value - {v}\")\n",
    "\n"
   ]
  },
  {
   "cell_type": "markdown",
   "metadata": {},
   "source": [
    "## functions"
   ]
  },
  {
   "cell_type": "code",
   "execution_count": null,
   "metadata": {},
   "outputs": [],
   "source": [
    "def my_first_function():\n",
    "    print(\"I got called\")\n",
    "\n",
    "def function_with_args(name, greating):\n",
    "    print(f\"{greating} {name}\")\n",
    "\n",
    "def function_with_keyword_arg(name, greating, n=1):\n",
    "    for i in range(n):\n",
    "        print(f\"{greating} {name}\")\n",
    "    \n",
    "def function_with_return(n):\n",
    "    return n ** 2\n",
    "\n",
    "def function_with_types(string1: str, string2: str) -> str:\n",
    "    return string1 + string2\n",
    "\n",
    "my_first_function()\n",
    "my_first_function()\n",
    "function_with_args(\"Reece\", \"Hello\")\n",
    "function_with_keyword_arg(\"Steve\", \"Hello\")\n",
    "function_with_keyword_arg(\"Emily\", \"Hello\", n=3)\n",
    "newString = function_with_types(\"Something\", \", something else\")"
   ]
  },
  {
   "cell_type": "code",
   "execution_count": null,
   "metadata": {},
   "outputs": [],
   "source": []
  }
 ],
 "metadata": {
  "interpreter": {
   "hash": "b363abc4c93548541a8017851aedf0f652cd1406ef1c720927b3c11f32841ff7"
  },
  "kernelspec": {
   "display_name": "Python 3 (ipykernel)",
   "language": "python",
   "name": "python3"
  },
  "language_info": {
   "codemirror_mode": {
    "name": "ipython",
    "version": 3
   },
   "file_extension": ".py",
   "mimetype": "text/x-python",
   "name": "python",
   "nbconvert_exporter": "python",
   "pygments_lexer": "ipython3",
   "version": "3.7.12"
  }
 },
 "nbformat": 4,
 "nbformat_minor": 4
}
